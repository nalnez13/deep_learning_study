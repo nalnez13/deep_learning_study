{
 "cells": [
  {
   "cell_type": "markdown",
   "metadata": {},
   "source": [
    "### Dense Layers"
   ]
  },
  {
   "cell_type": "markdown",
   "metadata": {},
   "source": [
    "### Shapes of Dense Layers"
   ]
  },
  {
   "cell_type": "code",
   "execution_count": 2,
   "metadata": {},
   "outputs": [
    {
     "name": "stdout",
     "output_type": "stream",
     "text": [
      "=== input/weight/bias ===\n",
      "x:  (8, 10)\n",
      "w:  (10, 3)\n",
      "b:  (3,)\n",
      "y:  (8, 3)\n"
     ]
    }
   ],
   "source": [
    "import tensorflow as tf\n",
    "from tensorflow.keras.layers import Dense\n",
    "\n",
    "N, n_feautre = 8, 10\n",
    "X = tf.random.normal(shape=(N, n_feautre))\n",
    "\n",
    "n_neuron = 3\n",
    "\n",
    "dense = Dense(units=n_neuron, activation='sigmoid')\n",
    "Y = dense(X)\n",
    "\n",
    "W, B = dense.get_weights()\n",
    "print('=== input/weight/bias ===')\n",
    "print(\"x: \", X.shape)\n",
    "print(\"w: \", W.shape)\n",
    "print(\"b: \", B.shape)\n",
    "print(\"y: \", Y.shape)\n"
   ]
  },
  {
   "cell_type": "markdown",
   "metadata": {},
   "source": [
    "### Output Calculations"
   ]
  },
  {
   "cell_type": "code",
   "execution_count": 9,
   "metadata": {},
   "outputs": [
    {
     "name": "stdout",
     "output_type": "stream",
     "text": [
      "=== input/weight/bias ===\n",
      "y(tf): \n",
      " [[0.66051465 0.48175505 0.59102505]\n",
      " [0.6642394  0.8516737  0.40843207]\n",
      " [0.9202743  0.4687363  0.3644462 ]\n",
      " [0.62595665 0.46364754 0.07252796]]\n",
      "y(manual): \n",
      " [[0.66051465 0.48175505 0.59102505]\n",
      " [0.6642394  0.8516737  0.40843207]\n",
      " [0.9202743  0.4687363  0.3644462 ]\n",
      " [0.62595665 0.46364754 0.07252796]]\n",
      "y(dot product): \n",
      " [[0.66051465 0.48175508 0.59102509]\n",
      " [0.66423938 0.85167371 0.4084321 ]\n",
      " [0.92027433 0.4687363  0.36444619]\n",
      " [0.62595664 0.46364751 0.07252799]]\n"
     ]
    }
   ],
   "source": [
    "import tensorflow as tf\n",
    "from tensorflow.keras.layers import Dense\n",
    "from tensorflow.math import exp\n",
    "from tensorflow.linalg import matmul\n",
    "import numpy as np\n",
    "\n",
    "\n",
    "\n",
    "N, n_feautre = 4, 10\n",
    "X = tf.random.normal(shape=(N, n_feautre))\n",
    "\n",
    "n_neuron = 3\n",
    "\n",
    "dense = Dense(units=n_neuron, activation='sigmoid')\n",
    "Y = dense(X)\n",
    "\n",
    "W, B = dense.get_weights()\n",
    "print('=== input/weight/bias ===')\n",
    "print(\"y(tf): \\n\", Y.numpy())\n",
    "\n",
    "# matmul\n",
    "z = matmul(X, W) + B\n",
    "y_man_matmul = 1 / (1 + exp(-z))\n",
    "print(\"y(manual): \\n\", Y.numpy())\n",
    "\n",
    "# dot products\n",
    "y_man_vec = np.zeros(shape=(N, n_neuron))\n",
    "for x_idx in range(N):\n",
    "    x = X[x_idx]\n",
    "    for nu_idx in range(n_neuron):\n",
    "        w, b = W[:, nu_idx], B[nu_idx]\n",
    "\n",
    "        z = tf.reduce_sum(x * w) + b\n",
    "        a = 1 / (1 + np.exp(-z))\n",
    "        y_man_vec[x_idx, nu_idx] = a\n",
    "\n",
    "print(\"y(dot product): \\n\", y_man_vec)"
   ]
  },
  {
   "cell_type": "markdown",
   "metadata": {},
   "source": [
    "### Cascaded Dense Layer"
   ]
  },
  {
   "cell_type": "code",
   "execution_count": 11,
   "metadata": {},
   "outputs": [
    {
     "name": "stdout",
     "output_type": "stream",
     "text": [
      "X : (4, 10)\n",
      "W1 : (10, 3)\n",
      "B1 : (3,)\n",
      "A1 : (4, 3)\n",
      "W2 : (3, 5)\n",
      "B2 : (5,)\n",
      "Y : (4, 5)\n"
     ]
    }
   ],
   "source": [
    "import tensorflow as tf\n",
    "\n",
    "from tensorflow.keras.layers import Dense\n",
    "\n",
    "N, n_feature = 4, 10\n",
    "X = tf.random.normal(shape=(N, n_feature))\n",
    "\n",
    "n_neuron = [3, 5]\n",
    "dense1 = Dense(units=n_neuron[0], activation='sigmoid')\n",
    "dense2 = Dense(units=n_neuron[1], activation='sigmoid')\n",
    "\n",
    "# forward\n",
    "A1 = dense1(X)\n",
    "Y = dense2(A1)\n",
    "\n",
    "W1, B1 = dense1.get_weights()\n",
    "W2, B2 = dense2.get_weights()\n",
    "\n",
    "print('X :', X.shape)\n",
    "print('W1 :', W1.shape)\n",
    "print('B1 :', B1.shape)\n",
    "print('A1 :', A1.shape)\n",
    "\n",
    "print('W2 :', W2.shape)\n",
    "print('B2 :', B2.shape)\n",
    "print('Y :', Y.shape)"
   ]
  },
  {
   "cell_type": "markdown",
   "metadata": {},
   "source": [
    "### Dense Layers with list"
   ]
  },
  {
   "cell_type": "code",
   "execution_count": 16,
   "metadata": {},
   "outputs": [
    {
     "name": "stdout",
     "output_type": "stream",
     "text": [
      "After dense 1\n",
      "(4, 10)\n",
      "After dense 2\n",
      "(4, 20)\n",
      "After dense 3\n",
      "(4, 30)\n",
      "After dense 4\n",
      "(4, 40)\n",
      "After dense 5\n",
      "(4, 50)\n",
      "After dense 6\n",
      "(4, 60)\n",
      "After dense 7\n",
      "(4, 70)\n",
      "After dense 8\n",
      "(4, 80)\n"
     ]
    }
   ],
   "source": [
    "import tensorflow as tf\n",
    "\n",
    "from tensorflow.keras.layers import Dense\n",
    "\n",
    "N, n_feature = 4, 10\n",
    "X = tf.random.normal(shape=(N, n_feature))\n",
    "\n",
    "n_neuron = [10, 20, 30, 40, 50, 60, 70, 80]\n",
    "dense_layers = []\n",
    "for n in n_neuron:\n",
    "    dense = Dense(units=n, activation='relu')\n",
    "    dense_layers.append(dense)\n",
    "\n",
    "for dense_idx, d in enumerate(dense_layers):\n",
    "    X = d(X)\n",
    "    print('After dense', dense_idx + 1)\n",
    "    print(X.shape)\n",
    "Y = X"
   ]
  },
  {
   "cell_type": "markdown",
   "metadata": {},
   "source": [
    "### Output calculations"
   ]
  },
  {
   "cell_type": "code",
   "execution_count": 24,
   "metadata": {},
   "outputs": [
    {
     "name": "stdout",
     "output_type": "stream",
     "text": [
      "Input:  (4, 10)\n",
      "Y(TF) [[0.5758754  0.44308335 0.55577695 0.43275854 0.40059185]\n",
      " [0.5762585  0.45153323 0.5318519  0.42211947 0.39154565]\n",
      " [0.57775456 0.44705185 0.5435034  0.42777175 0.39305246]\n",
      " [0.5804851  0.44424984 0.5521302  0.43567234 0.3954671 ]]\n",
      "Y(manual) [[0.5758754  0.44308335 0.55577695 0.43275854 0.40059185]\n",
      " [0.5762585  0.45153323 0.5318519  0.42211947 0.39154565]\n",
      " [0.57775456 0.44705185 0.5435034  0.42777175 0.39305246]\n",
      " [0.5804851  0.44424984 0.5521302  0.43567234 0.3954671 ]]\n"
     ]
    }
   ],
   "source": [
    "import tensorflow as tf\n",
    "from tensorflow.math import exp\n",
    "from tensorflow.linalg import matmul\n",
    "\n",
    "from tensorflow.keras.layers import Dense\n",
    "\n",
    "N, n_feature = 4, 10\n",
    "X = tf.random.normal(shape=(N, n_feature))\n",
    "x_cp = tf.identity(X)\n",
    "\n",
    "n_neuron = [3, 4, 5]\n",
    "dense_layers = []\n",
    "for n in n_neuron:\n",
    "    dense = Dense(units=n, activation='sigmoid')\n",
    "    dense_layers.append(dense)\n",
    "\n",
    "# forward\n",
    "print('Input: ', X.shape)\n",
    "W, B = [], []\n",
    "for dense_idx, d in enumerate(dense_layers):\n",
    "    X = d(X)\n",
    "    w, b = d.get_weights()\n",
    "    W.append(w)\n",
    "    B.append(b)\n",
    "\n",
    "print(\"Y(TF)\", X.numpy())\n",
    "\n",
    "# manual forward\n",
    "for layer_idx in range(len(n_neuron)):\n",
    "    w, b = W[layer_idx], B[layer_idx]\n",
    "    x_cp = matmul(x_cp, w) + b\n",
    "    x_cp = 1 / (1 + exp(-x_cp))\n",
    "print(\"Y(manual)\", x_cp.numpy())"
   ]
  },
  {
   "cell_type": "markdown",
   "metadata": {},
   "source": [
    "### Model Implementation"
   ]
  },
  {
   "cell_type": "markdown",
   "metadata": {},
   "source": [
    "### Model implemetnation with Sequential Method"
   ]
  },
  {
   "cell_type": "code",
   "execution_count": 25,
   "metadata": {},
   "outputs": [],
   "source": [
    "from tensorflow.keras.layers import Dense\n",
    "from tensorflow.keras.models import Sequential\n",
    "\n",
    "n_neuron = [3, 4, 5, 6]\n",
    "model = Sequential()\n",
    "for n in n_neuron:\n",
    "    model.add(Dense(units=n, activation='sigmoid'))"
   ]
  },
  {
   "cell_type": "markdown",
   "metadata": {},
   "source": [
    "### Model implementation with Model-subclassing"
   ]
  },
  {
   "cell_type": "code",
   "execution_count": 26,
   "metadata": {},
   "outputs": [],
   "source": [
    "from tensorflow.keras.layers import Dense\n",
    "from tensorflow.keras.models import Model\n",
    "\n",
    "class TestModel(Model):\n",
    "    def __init__(self, *args, **kwargs):\n",
    "        super(TestModel, self).__init__(*args, **kwargs)\n",
    "\n",
    "        self.dense1 = Dense(units=10, activation='sigmoid')\n",
    "        self.dense2 = Dense(units=20, activation='sigmoid')\n",
    "\n",
    "model = TestModel()"
   ]
  },
  {
   "cell_type": "markdown",
   "metadata": {},
   "source": [
    "### Forward Propagation of Models"
   ]
  },
  {
   "cell_type": "code",
   "execution_count": 31,
   "metadata": {},
   "outputs": [
    {
     "name": "stdout",
     "output_type": "stream",
     "text": [
      "[[0.42644915 0.3634584  0.42794952 0.32661465 0.66594714 0.31790614]\n",
      " [0.42750964 0.3643052  0.42573494 0.3345477  0.66118264 0.31678864]\n",
      " [0.42694992 0.36386877 0.42540056 0.32524517 0.66636854 0.3159413 ]\n",
      " [0.42672676 0.36595505 0.42883816 0.32874793 0.66418254 0.3185828 ]]\n",
      "[[0.5438799  0.3161276  0.29188898 0.567872   0.5539243  0.5278989 ]\n",
      " [0.543958   0.31621492 0.29207432 0.56794804 0.5537214  0.5279601 ]\n",
      " [0.5438548  0.31625828 0.29204252 0.5678336  0.55386174 0.52788585]\n",
      " [0.54395974 0.31606734 0.29182774 0.5678598  0.5539599  0.52790785]]\n"
     ]
    }
   ],
   "source": [
    "import tensorflow as tf\n",
    "from tensorflow.keras.layers import Dense\n",
    "from tensorflow.keras.models import Sequential\n",
    "from tensorflow.keras.models import Model\n",
    "\n",
    "X = tf.random.normal(shape=(4, 10))\n",
    "# sequential method\n",
    "n_neuron = [3, 4, 5, 6]\n",
    "model = Sequential()\n",
    "for n in n_neuron:\n",
    "    model.add(Dense(units=n, activation='sigmoid'))\n",
    "\n",
    "Y = model(X)\n",
    "print(Y.numpy())\n",
    "\n",
    "class TestModel(Model):\n",
    "    def __init__(self, *args, **kwargs):\n",
    "        super(TestModel, self).__init__(*args, **kwargs)\n",
    "\n",
    "        self.dense1 = Dense(units=3, activation='sigmoid')\n",
    "        self.dense2 = Dense(units=6, activation='sigmoid')\n",
    "\n",
    "    def call(self, x):\n",
    "        x = self.dense1(x)\n",
    "        x = self.dense2(x)\n",
    "        return x\n",
    "\n",
    "model = TestModel()\n",
    "Y = model(Y)\n",
    "print(Y.numpy())"
   ]
  },
  {
   "cell_type": "markdown",
   "metadata": {},
   "source": [
    "### Layers in Models"
   ]
  },
  {
   "cell_type": "code",
   "execution_count": 37,
   "metadata": {},
   "outputs": [
    {
     "name": "stdout",
     "output_type": "stream",
     "text": [
      "<class 'list'>\n",
      "[<tensorflow.python.keras.layers.core.Dense object at 0x00000182A503EDC0>, <tensorflow.python.keras.layers.core.Dense object at 0x00000182A6EA2490>]\n",
      "<tensorflow.python.keras.layers.core.Dense object at 0x00000182A503EDC0>\n"
     ]
    }
   ],
   "source": [
    "import tensorflow as tf\n",
    "from tensorflow.keras.layers import Dense\n",
    "from tensorflow.keras.models import Sequential\n",
    "\n",
    "X = tf.random.normal(shape=(4, 10))\n",
    "# sequential method\n",
    "n_neuron = [3, 4]\n",
    "model = Sequential()\n",
    "for n in n_neuron:\n",
    "    model.add(Dense(units=n, activation='sigmoid'))\n",
    "\n",
    "print(type(model.layers))\n",
    "print(model.layers)\n",
    "dense1 = model.layers[0]\n",
    "print(dense1)"
   ]
  },
  {
   "cell_type": "markdown",
   "metadata": {},
   "source": [
    "### Trainable Variables in Model"
   ]
  },
  {
   "cell_type": "code",
   "execution_count": 43,
   "metadata": {},
   "outputs": [
    {
     "name": "stdout",
     "output_type": "stream",
     "text": [
      "<class 'list'>\n",
      "4\n",
      "(10, 3)\n",
      "(3,)\n",
      "(3, 4)\n",
      "(4,)\n"
     ]
    }
   ],
   "source": [
    "import tensorflow as tf\n",
    "from tensorflow.keras.layers import Dense\n",
    "from tensorflow.keras.models import Sequential\n",
    "\n",
    "X = tf.random.normal(shape=(4, 10))\n",
    "# sequential method\n",
    "n_neuron = [3, 4]\n",
    "model = Sequential()\n",
    "for n in n_neuron:\n",
    "    model.add(Dense(units=n, activation='sigmoid'))\n",
    "y = model(X)\n",
    "\n",
    "print(type(model.trainable_variables))\n",
    "print(len(model.trainable_variables))\n",
    "for train_var in model.trainable_variables:\n",
    "    print(train_var.shape) # weights, bias"
   ]
  },
  {
   "cell_type": "code",
   "execution_count": null,
   "metadata": {},
   "outputs": [],
   "source": []
  }
 ],
 "metadata": {
  "interpreter": {
   "hash": "545900e352d047268087df7c6c99837ed2b248b42106cf6defd55828819bdd50"
  },
  "kernelspec": {
   "display_name": "Python 3.9.7 64-bit ('learning': conda)",
   "language": "python",
   "name": "python3"
  },
  "language_info": {
   "codemirror_mode": {
    "name": "ipython",
    "version": 3
   },
   "file_extension": ".py",
   "mimetype": "text/x-python",
   "name": "python",
   "nbconvert_exporter": "python",
   "pygments_lexer": "ipython3",
   "version": "3.9.7"
  },
  "orig_nbformat": 4
 },
 "nbformat": 4,
 "nbformat_minor": 2
}
