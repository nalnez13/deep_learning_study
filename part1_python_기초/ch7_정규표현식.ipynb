{
 "cells": [
  {
   "cell_type": "markdown",
   "metadata": {},
   "source": [
    "# 정규표현식\n",
    "- Regular Expression\n",
    "- 특정 패턴과 일치하는 문자열을 검색, 치환, 제거할 수 있음\n",
    "- ex) 이메일 형식 판별, 전화번호 형식 판별 등"
   ]
  },
  {
   "cell_type": "markdown",
   "metadata": {},
   "source": [
    "- raw string\n",
    "  - 문자열 앞에 r이 붙으면 구성된 그대로 문자열로 반환"
   ]
  },
  {
   "cell_type": "code",
   "execution_count": 2,
   "metadata": {},
   "outputs": [
    {
     "name": "stdout",
     "output_type": "stream",
     "text": [
      "abcdef\n",
      "\n",
      "abcedf\\n\n"
     ]
    }
   ],
   "source": [
    "a = 'abcdef\\n'\n",
    "print(a)\n",
    "\n",
    "b = r'abcedf\\n'\n",
    "print(b) # escape 문자도 표현됨"
   ]
  },
  {
   "cell_type": "markdown",
   "metadata": {},
   "source": [
    "### 기본 패턴\n",
    "- a, X, 9 등 문자 하나는 정확히 해당 문자와 일치\n",
    "- . ^ $ * + ? {} [] \\ | () 문자는 특별한 의미로 사용됨\n",
    "- . (마침표) : 어떤 한개 character와 일치\n",
    "- \\w : 문자 character와 일치 [a-zA-Z0-9]\n",
    "- \\s : 공백문자와 일치\n",
    "- \\t, \\n, \\r : tab, newline, return\n",
    "- \\d : 숫자 character와 일치[0-9]\n",
    "- ^ = 시작, $ = 끝 : 각각 문자열의 시작과 끝을 의미\n",
    "- 특수문자는 \\ 를 한번 더 적어서 자체를 표현할 수 있음\n"
   ]
  },
  {
   "cell_type": "markdown",
   "metadata": {},
   "source": [
    "### search method\n",
    "- 패턴을 찾으면 match 객체 반환\n",
    "- 찾지 못하면 None 반환"
   ]
  },
  {
   "cell_type": "code",
   "execution_count": 3,
   "metadata": {},
   "outputs": [],
   "source": [
    "import re"
   ]
  },
  {
   "cell_type": "code",
   "execution_count": 4,
   "metadata": {},
   "outputs": [
    {
     "name": "stdout",
     "output_type": "stream",
     "text": [
      "3\n",
      "6\n",
      "abc\n",
      "None\n"
     ]
    }
   ],
   "source": [
    "m = re.search(r'abc', '123abcdef') # 123abcdef 에서 abc 패턴을 검색\n",
    "print(m.start()) # 시작 인덱스\n",
    "print(m.end()) # 종료 인덱스\n",
    "print(m.group()) \n",
    "\n",
    "print(re.search(r'abc', 'vvdcer')) # None 반환"
   ]
  },
  {
   "cell_type": "code",
   "execution_count": 5,
   "metadata": {},
   "outputs": [
    {
     "name": "stdout",
     "output_type": "stream",
     "text": [
      "0\n",
      "2\n",
      "<re.Match object; span=(0, 4), match='112a'>\n"
     ]
    }
   ],
   "source": [
    "m = re.search(r'\\d\\d', '112abcdedf991') # 숫자 2개가 나란히 있는 경우 검색 -> 처음부터 검색한 결과를 반환함\n",
    "print(m.start())\n",
    "print(m.end())\n",
    "\n",
    "m = re.search(r'\\d\\d\\d\\w', '112abcdedf991')\n",
    "print(m)\n"
   ]
  },
  {
   "cell_type": "code",
   "execution_count": 6,
   "metadata": {},
   "outputs": [
    {
     "name": "stdout",
     "output_type": "stream",
     "text": [
      "<re.Match object; span=(4, 8), match='!@SD'>\n"
     ]
    }
   ],
   "source": [
    "m = re.search(r'..\\w\\w', '@#%#!@SDSDgdasfge')\n",
    "print(m)"
   ]
  },
  {
   "cell_type": "markdown",
   "metadata": {},
   "source": [
    "### metacharacters\n",
    "- [] : 문자의 범위를 나타내기 위해 사용\n",
    "  - [abck] : a, b, c, k 중 1개\n",
    "  - [abc.^] : a, b, c, . , ^ 중 1 개. 대괄호 안의 특수문자는 그 자체로 매핑됨\n",
    "  - [a-d] : a 부터 d 사이\n",
    "  - [0-9] : 모든 숫자\n",
    "  - [a-z] : 모든 소문자\n",
    "  - [a-zA-Z0-9] : 모든 알파벳 및 숫자\n",
    "  - [^0-9] : 맨 앞의 ^은 not을 의미. 숫자가 아닌 문자"
   ]
  },
  {
   "cell_type": "code",
   "execution_count": 7,
   "metadata": {},
   "outputs": [
    {
     "name": "stdout",
     "output_type": "stream",
     "text": [
      "<re.Match object; span=(0, 3), match='cat'>\n",
      "<re.Match object; span=(0, 3), match='bat'>\n",
      "<re.Match object; span=(0, 3), match='mat'>\n"
     ]
    }
   ],
   "source": [
    "print(re.search(r'[cbm]at', 'cat'))\n",
    "print(re.search(r'[cbm]at', 'bat'))\n",
    "print(re.search(r'[cbm]at', 'mat'))"
   ]
  },
  {
   "cell_type": "code",
   "execution_count": 8,
   "metadata": {},
   "outputs": [
    {
     "name": "stdout",
     "output_type": "stream",
     "text": [
      "<re.Match object; span=(0, 6), match='1hahah'>\n"
     ]
    }
   ],
   "source": [
    "print(re.search(r'[0-9]hahah', '1hahaha'))"
   ]
  },
  {
   "cell_type": "code",
   "execution_count": 9,
   "metadata": {},
   "outputs": [
    {
     "data": {
      "text/plain": [
       "<re.Match object; span=(0, 5), match='caron'>"
      ]
     },
     "execution_count": 9,
     "metadata": {},
     "output_type": "execute_result"
    }
   ],
   "source": [
    "re.search(r'[abc.]aron', 'caron')"
   ]
  },
  {
   "cell_type": "code",
   "execution_count": 10,
   "metadata": {},
   "outputs": [
    {
     "name": "stdout",
     "output_type": "stream",
     "text": [
      "None\n"
     ]
    },
    {
     "data": {
      "text/plain": [
       "<re.Match object; span=(0, 5), match='#aron'>"
      ]
     },
     "execution_count": 10,
     "metadata": {},
     "output_type": "execute_result"
    }
   ],
   "source": [
    "print(re.search(r'[^abc]aron', 'aaron')) # abc 가 아닌것을 찾기 때문에 매칭 안됨\n",
    "re.search(r'[^abc]aron', '#aron') # abc 가 아닌것을 찾기 때문에 매칭 됨"
   ]
  },
  {
   "cell_type": "markdown",
   "metadata": {},
   "source": [
    "- \\\n",
    "1. 다른 문자와 사용되어 특수 의미를 나타냄\n",
    "  - \\d: 숫자\n",
    "  - \\D: 숫자가 아닌 문자\n",
    "  - \\s: 공백 문자\n",
    "  - \\s: 공백이 아닌 문자\n",
    "  - \\w: 알파벳 대소문자, 숫자\n",
    "  - \\W: non alphabet-numeric 문자"
   ]
  },
  {
   "cell_type": "code",
   "execution_count": 11,
   "metadata": {},
   "outputs": [
    {
     "data": {
      "text/plain": [
       "<re.Match object; span=(5, 9), match=' and'>"
      ]
     },
     "execution_count": 11,
     "metadata": {},
     "output_type": "execute_result"
    }
   ],
   "source": [
    "re.search(r'\\sand', 'apple and banana')"
   ]
  },
  {
   "cell_type": "markdown",
   "metadata": {},
   "source": [
    "- .\n",
    "모든 문자를 의미"
   ]
  },
  {
   "cell_type": "code",
   "execution_count": 12,
   "metadata": {},
   "outputs": [
    {
     "data": {
      "text/plain": [
       "<re.Match object; span=(0, 4), match='sand'>"
      ]
     },
     "execution_count": 12,
     "metadata": {},
     "output_type": "execute_result"
    }
   ],
   "source": [
    "re.search(r'.and', 'sand')"
   ]
  },
  {
   "cell_type": "markdown",
   "metadata": {},
   "source": [
    "### 반복패턴\n",
    "- 패턴 뒤에 위치하는 *, +, ?는 해당 패턴이 반복 존재하는지 검사\n",
    "  - '+' : 1번 이상의 패턴 발생\n",
    "  - '*' : 0번 이상의 패턴 발생\n",
    "  - ? : 0번 혹은 1번 패턴 발생\n",
    "- greedy 하게 탐색하므로 가장 많은 부분이 매치되도록 함"
   ]
  },
  {
   "cell_type": "code",
   "execution_count": 13,
   "metadata": {},
   "outputs": [
    {
     "data": {
      "text/plain": [
       "<re.Match object; span=(0, 8), match='abcbdccb'>"
      ]
     },
     "execution_count": 13,
     "metadata": {},
     "output_type": "execute_result"
    }
   ],
   "source": [
    "re.search(r'a[bcd]*b', 'abcbdccb') # ab, abcb 도 가능하지만 abcbdccb 가 가장 많이 매칭됨"
   ]
  },
  {
   "cell_type": "code",
   "execution_count": 14,
   "metadata": {},
   "outputs": [
    {
     "data": {
      "text/plain": [
       "<re.Match object; span=(0, 6), match='banana'>"
      ]
     },
     "execution_count": 14,
     "metadata": {},
     "output_type": "execute_result"
    }
   ],
   "source": [
    "re.search(r'b\\w+a', 'banana')"
   ]
  },
  {
   "cell_type": "code",
   "execution_count": 16,
   "metadata": {},
   "outputs": [
    {
     "data": {
      "text/plain": [
       "<re.Match object; span=(1, 3), match='ii'>"
      ]
     },
     "execution_count": 16,
     "metadata": {},
     "output_type": "execute_result"
    }
   ],
   "source": [
    "re.search(r'i+', 'piigiiii') # 가장 먼저, greedy 하게 검색"
   ]
  },
  {
   "cell_type": "code",
   "execution_count": 21,
   "metadata": {},
   "outputs": [
    {
     "name": "stdout",
     "output_type": "stream",
     "text": [
      "<re.Match object; span=(0, 4), match='piig'>\n",
      "<re.Match object; span=(0, 4), match='piig'>\n",
      "<re.Match object; span=(0, 2), match='pg'>\n",
      "None\n"
     ]
    }
   ],
   "source": [
    "print(re.search(r'pi+g', 'piig'))\n",
    "print(re.search(r'pi*g', 'piig'))\n",
    "print(re.search(r'pi*g', 'pg'))\n",
    "print(re.search(r'pi+g', 'pg')) # + 는 한 번 이상 있어야함"
   ]
  },
  {
   "cell_type": "code",
   "execution_count": 24,
   "metadata": {},
   "outputs": [
    {
     "name": "stdout",
     "output_type": "stream",
     "text": [
      "<re.Match object; span=(0, 5), match='https'>\n",
      "<re.Match object; span=(0, 4), match='http'>\n",
      "<re.Match object; span=(0, 4), match='http'>\n"
     ]
    }
   ],
   "source": [
    "print(re.search(r'https?', 'https://www.naver.com'))\n",
    "print(re.search(r'https?', 'http://www.naver.com'))\n",
    "print(re.search(r'https?', 'httpk://www.naver.com'))"
   ]
  },
  {
   "cell_type": "markdown",
   "metadata": {},
   "source": [
    "### ^*, *$\n",
    "- ^ : 문자열 맨 앞 부터 일치하는 경우\n",
    "- $ : 문자열 맨 뒤 부터 일치하는 경우"
   ]
  },
  {
   "cell_type": "code",
   "execution_count": 36,
   "metadata": {},
   "outputs": [
    {
     "name": "stdout",
     "output_type": "stream",
     "text": [
      "<re.Match object; span=(2, 6), match='bana'>\n",
      "None\n"
     ]
    }
   ],
   "source": [
    "print(re.search(r'b\\w+a', 'cabana'))\n",
    "print(re.search(r'^b\\w+a', 'cabana')) # 시작부터 b\\w+a 와 매칭되어야 함"
   ]
  },
  {
   "cell_type": "code",
   "execution_count": 38,
   "metadata": {},
   "outputs": [
    {
     "name": "stdout",
     "output_type": "stream",
     "text": [
      "<re.Match object; span=(2, 6), match='bana'>\n"
     ]
    }
   ],
   "source": [
    "print(re.search(r'b\\w+a$', 'cabana')) # 뒤에서부터 매칭 됨"
   ]
  },
  {
   "cell_type": "markdown",
   "metadata": {},
   "source": [
    "### Grouping\n",
    "- ()을 이용해서 그루핑\n",
    "- 매칭 결과를 그룹별로 분리 가능\n"
   ]
  },
  {
   "cell_type": "code",
   "execution_count": 48,
   "metadata": {},
   "outputs": [
    {
     "name": "stdout",
     "output_type": "stream",
     "text": [
      "test@gmail.com\n",
      "test@gmail.com\n",
      "test\n",
      "gmail.com\n"
     ]
    }
   ],
   "source": [
    "m = re.search(r'(\\w+)@(.+)', 'test@gmail.com') # 이메일에서 아이디와 도메인 부분을 분리해서 그루핑 가능\n",
    "print(m.group())\n",
    "print(m.group(0))\n",
    "print(m.group(1))\n",
    "print(m.group(2))"
   ]
  },
  {
   "cell_type": "markdown",
   "metadata": {},
   "source": [
    "### {}\n",
    "- 반복의 횟수 제한이 필요한 경우(+, * 는 명시할 수 없음)\n",
    "- {3}: 3번 반복\n",
    "- {3,4}: 3~4 번 반복"
   ]
  },
  {
   "cell_type": "code",
   "execution_count": 52,
   "metadata": {},
   "outputs": [
    {
     "data": {
      "text/plain": [
       "<re.Match object; span=(0, 6), match='piiiig'>"
      ]
     },
     "execution_count": 52,
     "metadata": {},
     "output_type": "execute_result"
    }
   ],
   "source": [
    "re.search('pi{3,5}g', 'piiiig')"
   ]
  },
  {
   "cell_type": "markdown",
   "metadata": {},
   "source": [
    "### 미니멈 매칭\n",
    "- *, +, ?는 기본적으로 greedy하게 동작함\n",
    "- *?, +?를 사용하면 미니멈 매칭 가능"
   ]
  },
  {
   "cell_type": "code",
   "execution_count": 55,
   "metadata": {},
   "outputs": [
    {
     "name": "stdout",
     "output_type": "stream",
     "text": [
      "<re.Match object; span=(0, 17), match='<html>hihi</html>'>\n",
      "<re.Match object; span=(0, 6), match='<html>'>\n"
     ]
    }
   ],
   "source": [
    "print(re.search(r'<.+>', '<html>hihi</html>')) # 전체를 찾도록 동작함\n",
    "print(re.search(r'<.+?>', '<html>hihi</html>')) # 최소로 매칭되는 <html>만 검색"
   ]
  },
  {
   "cell_type": "markdown",
   "metadata": {},
   "source": [
    "### {}?\n",
    "- {m, n}? 로 사용하면 최소 m만 매칭하도록 검출"
   ]
  },
  {
   "cell_type": "code",
   "execution_count": 56,
   "metadata": {},
   "outputs": [
    {
     "name": "stdout",
     "output_type": "stream",
     "text": [
      "<re.Match object; span=(0, 5), match='aaaaa'>\n",
      "<re.Match object; span=(0, 3), match='aaa'>\n"
     ]
    }
   ],
   "source": [
    "print(re.search(r'a{3,5}', 'aaaaaaa'))\n",
    "print(re.search(r'a{3,5}?', 'aaaaaaa'))"
   ]
  },
  {
   "cell_type": "markdown",
   "metadata": {},
   "source": [
    "### match\n",
    "- search와 유사하나, 시작부터 비교하여 패턴이 있는지 확인"
   ]
  },
  {
   "cell_type": "code",
   "execution_count": 57,
   "metadata": {},
   "outputs": [],
   "source": [
    "re.match(r'\\d\\d\\d', 'my number is 123')"
   ]
  },
  {
   "cell_type": "code",
   "execution_count": 58,
   "metadata": {},
   "outputs": [
    {
     "data": {
      "text/plain": [
       "<re.Match object; span=(0, 3), match='123'>"
      ]
     },
     "execution_count": 58,
     "metadata": {},
     "output_type": "execute_result"
    }
   ],
   "source": [
    "re.match(r'\\d\\d\\d', '123 is my number')"
   ]
  },
  {
   "cell_type": "markdown",
   "metadata": {},
   "source": [
    "### findall\n",
    "- search는 최초 매칭 패턴만 반환, findall은 매칭 패턴 전체를 반환\n",
    "- 리스트로 반환됨"
   ]
  },
  {
   "cell_type": "code",
   "execution_count": 59,
   "metadata": {},
   "outputs": [
    {
     "data": {
      "text/plain": [
       "['test@gmail.com', 'test2@gmail.com']"
      ]
     },
     "execution_count": 59,
     "metadata": {},
     "output_type": "execute_result"
    }
   ],
   "source": [
    "re.findall(r'[\\w-]+@[\\w.]+', 'test@gmail.com haha test2@gmail.com abc hi hihihihi')"
   ]
  },
  {
   "cell_type": "markdown",
   "metadata": {},
   "source": [
    "### sub\n",
    "- 일치하는 패턴을 replace\n",
    "- 두번째 인자는 문자열, 또는 함수가 됨\n",
    "- 변경된 문자열이 반환됨\n",
    "- count 파라미터가 0 이면 전체가 치환, 주어지면 해당 갯수만 치환됨"
   ]
  },
  {
   "cell_type": "code",
   "execution_count": 62,
   "metadata": {},
   "outputs": [
    {
     "name": "stdout",
     "output_type": "stream",
     "text": [
      "great haha great abc hi hihihihi\n",
      "great haha test2@gmail.com abc hi hihihihi\n"
     ]
    }
   ],
   "source": [
    "print(re.sub(r'[\\w-]+@[\\w.]+', 'great', 'test@gmail.com haha test2@gmail.com abc hi hihihihi'))\n",
    "print(re.sub(r'[\\w-]+@[\\w.]+', 'great', 'test@gmail.com haha test2@gmail.com abc hi hihihihi', count=1))"
   ]
  },
  {
   "cell_type": "markdown",
   "metadata": {},
   "source": [
    "### compile\n",
    "- 정규 표현식을 re.RegexObject 객체로 저장해서 사용"
   ]
  },
  {
   "cell_type": "code",
   "execution_count": 63,
   "metadata": {},
   "outputs": [
    {
     "data": {
      "text/plain": [
       "<re.Match object; span=(0, 14), match='test@gmail.com'>"
      ]
     },
     "execution_count": 63,
     "metadata": {},
     "output_type": "execute_result"
    }
   ],
   "source": [
    "email_reg = re.compile(r'[\\w-]+@[\\w.]+')\n",
    "email_reg.search('test@gmail.com haha test2@gmail.com abc hi hihihihi')"
   ]
  },
  {
   "cell_type": "markdown",
   "metadata": {},
   "source": [
    "### 연습문제\n",
    "- 아래 뉴스에서 이메일 주소를 추출\n",
    "- 다음 중 올바른(http, https) 웹페이지만 검출"
   ]
  },
  {
   "cell_type": "code",
   "execution_count": 90,
   "metadata": {},
   "outputs": [
    {
     "data": {
      "text/plain": [
       "<re.Match object; span=(2739, 2756), match='dyhlee@newsis.com'>"
      ]
     },
     "execution_count": 90,
     "metadata": {},
     "output_type": "execute_result"
    }
   ],
   "source": [
    "import requests\n",
    "from bs4 import BeautifulSoup\n",
    "# 위의 두 모듈이 없는 경우에는 pip install requests bs4 실행\n",
    "\n",
    "def get_news_content(url):\n",
    "    response = requests.get(url)\n",
    "    content = response.text\n",
    "\n",
    "    soup = BeautifulSoup(content, 'html5lib')\n",
    "\n",
    "    div = soup.find('div', attrs = {'id' : 'harmonyContainer'})\n",
    "    \n",
    "    content = ''\n",
    "    for paragraph in div.find_all('p'):\n",
    "        content += paragraph.get_text()\n",
    "        \n",
    "    return content\n",
    "\n",
    "# news1 = get_news_content('https://news.v.daum.net/v/20190617073049838') # 이거 링크 죽음\n",
    "news1 = get_news_content('https://news.v.daum.net/v/20211210121256789')\n",
    "# print(news1)\n",
    "re.search(r'[\\w-]+@[\\w.]+\\w+', news1)"
   ]
  },
  {
   "cell_type": "code",
   "execution_count": 87,
   "metadata": {},
   "outputs": [
    {
     "name": "stdout",
     "output_type": "stream",
     "text": [
      "[<re.Match object; span=(0, 21), match='http://www.test.co.kr'>, <re.Match object; span=(0, 21), match='https://www.test1.com'>, <re.Match object; span=(0, 19), match='http://www.test.com'>, <re.Match object; span=(0, 21), match='http://www.google.com'>]\n"
     ]
    }
   ],
   "source": [
    "webs = ['http://www.test.co.kr', \n",
    "        'https://www.test1.com', \n",
    "        'http://www.test.com', \n",
    "        'ftp://www.test.com', \n",
    "        'http:://www.test.com',\n",
    "       'htp://www.test.com',\n",
    "       'http://www.google.com', \n",
    "       'https://www.homepage.com.']\n",
    "\n",
    "ret = [re.search('https?:/{2}[\\w.]+\\w+$', w) for w in webs]\n",
    "print([r for r in ret if r is not None])"
   ]
  },
  {
   "cell_type": "code",
   "execution_count": null,
   "metadata": {},
   "outputs": [],
   "source": []
  }
 ],
 "metadata": {
  "interpreter": {
   "hash": "fe539dd1e82c2ed25be7d2abc4e285603849b68eb77576c7741c324c60365d77"
  },
  "kernelspec": {
   "display_name": "Python 3.9.5 64-bit",
   "language": "python",
   "name": "python3"
  },
  "language_info": {
   "codemirror_mode": {
    "name": "ipython",
    "version": 3
   },
   "file_extension": ".py",
   "mimetype": "text/x-python",
   "name": "python",
   "nbconvert_exporter": "python",
   "pygments_lexer": "ipython3",
   "version": "3.9.7"
  },
  "orig_nbformat": 4
 },
 "nbformat": 4,
 "nbformat_minor": 2
}
