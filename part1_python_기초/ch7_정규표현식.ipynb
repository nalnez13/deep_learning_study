{
 "cells": [
  {
   "cell_type": "markdown",
   "metadata": {},
   "source": [
    "# 정규표현식\n",
    "- Regular Expression\n",
    "- 특정 패턴과 일치하는 문자열을 검색, 치환, 제거할 수 있음\n",
    "- ex) 이메일 형식 판별, 전화번호 형식 판별 등"
   ]
  },
  {
   "cell_type": "markdown",
   "metadata": {},
   "source": [
    "- raw string\n",
    "  - 문자열 앞에 r이 붙으면 구성된 그대로 문자열로 반환"
   ]
  },
  {
   "cell_type": "code",
   "execution_count": 2,
   "metadata": {},
   "outputs": [
    {
     "name": "stdout",
     "output_type": "stream",
     "text": [
      "abcdef\n",
      "\n",
      "abcedf\\n\n"
     ]
    }
   ],
   "source": [
    "a = 'abcdef\\n'\n",
    "print(a)\n",
    "\n",
    "b = r'abcedf\\n'\n",
    "print(b) # escape 문자도 표현됨"
   ]
  },
  {
   "cell_type": "markdown",
   "metadata": {},
   "source": [
    "### 기본 패턴\n",
    "- a, X, 9 등 문자 하나는 정확히 해당 문자와 일치\n",
    "- . ^ $ * + ? {} [] \\ | () 문자는 특별한 의미로 사용됨\n",
    "- . (마침표) : 어떤 한개 character와 일치\n",
    "- \\w : 문자 character와 일치 [a-zA-Z0-9]\n",
    "- \\s : 공백문자와 일치\n",
    "- \\t, \\n, \\r : tab, newline, return\n",
    "- \\d : 숫자 character와 일치[0-9]\n",
    "- ^ = 시작, $ = 끝 : 각각 문자열의 시작과 끝을 의미\n",
    "- 특수문자는 \\ 를 한번 더 적어서 자체를 표현할 수 있음\n"
   ]
  },
  {
   "cell_type": "markdown",
   "metadata": {},
   "source": [
    "### search method\n",
    "- 패턴을 찾으면 match 객체 반환\n",
    "- 찾지 못하면 None 반환"
   ]
  },
  {
   "cell_type": "code",
   "execution_count": 3,
   "metadata": {},
   "outputs": [],
   "source": [
    "import re"
   ]
  },
  {
   "cell_type": "code",
   "execution_count": 4,
   "metadata": {},
   "outputs": [
    {
     "name": "stdout",
     "output_type": "stream",
     "text": [
      "3\n",
      "6\n",
      "abc\n",
      "None\n"
     ]
    }
   ],
   "source": [
    "m = re.search(r'abc', '123abcdef') # 123abcdef 에서 abc 패턴을 검색\n",
    "print(m.start()) # 시작 인덱스\n",
    "print(m.end()) # 종료 인덱스\n",
    "print(m.group()) \n",
    "\n",
    "print(re.search(r'abc', 'vvdcer')) # None 반환"
   ]
  },
  {
   "cell_type": "code",
   "execution_count": 5,
   "metadata": {},
   "outputs": [
    {
     "name": "stdout",
     "output_type": "stream",
     "text": [
      "0\n",
      "2\n",
      "<re.Match object; span=(0, 4), match='112a'>\n"
     ]
    }
   ],
   "source": [
    "m = re.search(r'\\d\\d', '112abcdedf991') # 숫자 2개가 나란히 있는 경우 검색 -> 처음부터 검색한 결과를 반환함\n",
    "print(m.start())\n",
    "print(m.end())\n",
    "\n",
    "m = re.search(r'\\d\\d\\d\\w', '112abcdedf991')\n",
    "print(m)\n"
   ]
  },
  {
   "cell_type": "code",
   "execution_count": 6,
   "metadata": {},
   "outputs": [
    {
     "name": "stdout",
     "output_type": "stream",
     "text": [
      "<re.Match object; span=(4, 8), match='!@SD'>\n"
     ]
    }
   ],
   "source": [
    "m = re.search(r'..\\w\\w', '@#%#!@SDSDgdasfge')\n",
    "print(m)"
   ]
  },
  {
   "cell_type": "markdown",
   "metadata": {},
   "source": [
    "### metacharacters\n",
    "- [] : 문자의 범위를 나타내기 위해 사용\n",
    "  - [abck] : a, b, c, k 중 1개\n",
    "  - [abc.^] : a, b, c, . , ^ 중 1 개. 대괄호 안의 특수문자는 그 자체로 매핑됨\n",
    "  - [a-d] : a 부터 d 사이\n",
    "  - [0-9] : 모든 숫자\n",
    "  - [a-z] : 모든 소문자\n",
    "  - [a-zA-Z0-9] : 모든 알파벳 및 숫자\n",
    "  - [^0-9] : 맨 앞의 ^은 not을 의미. 숫자가 아닌 문자"
   ]
  },
  {
   "cell_type": "code",
   "execution_count": 7,
   "metadata": {},
   "outputs": [
    {
     "name": "stdout",
     "output_type": "stream",
     "text": [
      "<re.Match object; span=(0, 3), match='cat'>\n",
      "<re.Match object; span=(0, 3), match='bat'>\n",
      "<re.Match object; span=(0, 3), match='mat'>\n"
     ]
    }
   ],
   "source": [
    "print(re.search(r'[cbm]at', 'cat'))\n",
    "print(re.search(r'[cbm]at', 'bat'))\n",
    "print(re.search(r'[cbm]at', 'mat'))"
   ]
  },
  {
   "cell_type": "code",
   "execution_count": 8,
   "metadata": {},
   "outputs": [
    {
     "name": "stdout",
     "output_type": "stream",
     "text": [
      "<re.Match object; span=(0, 6), match='1hahah'>\n"
     ]
    }
   ],
   "source": [
    "print(re.search(r'[0-9]hahah', '1hahaha'))"
   ]
  },
  {
   "cell_type": "code",
   "execution_count": 9,
   "metadata": {},
   "outputs": [
    {
     "data": {
      "text/plain": [
       "<re.Match object; span=(0, 5), match='caron'>"
      ]
     },
     "execution_count": 9,
     "metadata": {},
     "output_type": "execute_result"
    }
   ],
   "source": [
    "re.search(r'[abc.]aron', 'caron')"
   ]
  },
  {
   "cell_type": "code",
   "execution_count": 10,
   "metadata": {},
   "outputs": [
    {
     "name": "stdout",
     "output_type": "stream",
     "text": [
      "None\n"
     ]
    },
    {
     "data": {
      "text/plain": [
       "<re.Match object; span=(0, 5), match='#aron'>"
      ]
     },
     "execution_count": 10,
     "metadata": {},
     "output_type": "execute_result"
    }
   ],
   "source": [
    "print(re.search(r'[^abc]aron', 'aaron')) # abc 가 아닌것을 찾기 때문에 매칭 안됨\n",
    "re.search(r'[^abc]aron', '#aron') # abc 가 아닌것을 찾기 때문에 매칭 됨"
   ]
  },
  {
   "cell_type": "markdown",
   "metadata": {},
   "source": [
    "- \\\n",
    "1. 다른 문자와 사용되어 특수 의미를 나타냄\n",
    "  - \\d: 숫자\n",
    "  - \\D: 숫자가 아닌 문자\n",
    "  - \\s: 공백 문자\n",
    "  - \\s: 공백이 아닌 문자\n",
    "  - \\w: 알파벳 대소문자, 숫자\n",
    "  - \\W: non alphabet-numeric 문자"
   ]
  },
  {
   "cell_type": "code",
   "execution_count": 11,
   "metadata": {},
   "outputs": [
    {
     "data": {
      "text/plain": [
       "<re.Match object; span=(5, 9), match=' and'>"
      ]
     },
     "execution_count": 11,
     "metadata": {},
     "output_type": "execute_result"
    }
   ],
   "source": [
    "re.search(r'\\sand', 'apple and banana')"
   ]
  },
  {
   "cell_type": "markdown",
   "metadata": {},
   "source": [
    "- .\n",
    "모든 문자를 의미"
   ]
  },
  {
   "cell_type": "code",
   "execution_count": 13,
   "metadata": {},
   "outputs": [
    {
     "data": {
      "text/plain": [
       "<re.Match object; span=(0, 4), match='sand'>"
      ]
     },
     "execution_count": 13,
     "metadata": {},
     "output_type": "execute_result"
    }
   ],
   "source": [
    "re.search(r'.and', 'sand')"
   ]
  },
  {
   "cell_type": "markdown",
   "metadata": {},
   "source": [
    "### 반복패턴\n",
    "- 패턴 뒤에 위치하는 *, +, ?는 해당 패턴이 반복 존재하는지 검사\n",
    "  - + : 1번 이상의 패턴 발생\n",
    "  - * : 0번 이상의 패턴 발생\n",
    "  - ? : 0번 혹은 1번 패턴 발생\n",
    "- greedy 하게 탐색하므로 가장 많은 부분이 매치되도록 함"
   ]
  },
  {
   "cell_type": "code",
   "execution_count": 16,
   "metadata": {},
   "outputs": [
    {
     "data": {
      "text/plain": [
       "<re.Match object; span=(0, 8), match='abcbdccb'>"
      ]
     },
     "execution_count": 16,
     "metadata": {},
     "output_type": "execute_result"
    }
   ],
   "source": [
    "re.search(r'a[bcd]*b', 'abcbdccb') # ab, abcb 도 가능하지만 abcbdccb 가 가장 많이 매칭됨"
   ]
  },
  {
   "cell_type": "code",
   "execution_count": null,
   "metadata": {},
   "outputs": [],
   "source": []
  }
 ],
 "metadata": {
  "interpreter": {
   "hash": "fe539dd1e82c2ed25be7d2abc4e285603849b68eb77576c7741c324c60365d77"
  },
  "kernelspec": {
   "display_name": "Python 3.9.5 64-bit",
   "language": "python",
   "name": "python3"
  },
  "language_info": {
   "codemirror_mode": {
    "name": "ipython",
    "version": 3
   },
   "file_extension": ".py",
   "mimetype": "text/x-python",
   "name": "python",
   "nbconvert_exporter": "python",
   "pygments_lexer": "ipython3",
   "version": "3.9.5"
  },
  "orig_nbformat": 4
 },
 "nbformat": 4,
 "nbformat_minor": 2
}
